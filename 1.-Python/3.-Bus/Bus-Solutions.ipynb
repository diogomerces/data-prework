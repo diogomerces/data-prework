{
 "cells": [
  {
   "cell_type": "markdown",
   "metadata": {},
   "source": [
    "## Bus\n",
    "This bus has a passenger entry and exit control system to monitor the number of occupants it carries and thus detect when there are too many.\n",
    "\n",
    "At each stop, the entry and exit of passengers is represented by a tuple consisting of two integer numbers.\n",
    "\n",
    "    bus_stop = (in, out)\n",
    "The succession of stops is represented by a list of these tuples.\n",
    "\n",
    "    stops = [(in1, out1), (in2, out2), (in3, out3), (in4, out4)]\n",
    "\n",
    "## Tools\n",
    "You don't necessarily need to use all the tools. Maybe you opt to use some of them or completely different ones, they are given to help you shape the exercise. Programming exercises can be solved in many different ways.\n",
    "\n",
    "    Data structures: lists, tuples\n",
    "    Loop: while/for loops\n",
    "    Functions: min, max, len\n",
    "\n",
    "\n",
    "## Tasks"
   ]
  },
  {
   "cell_type": "code",
   "execution_count": 1,
   "metadata": {},
   "outputs": [],
   "source": [
    "stops = [(10, 0), (4, 1), (3, 5), (3, 4), (5, 1), (1, 5), (5, 8), (4, 6), (2, 3)]"
   ]
  },
  {
   "cell_type": "markdown",
   "metadata": {},
   "source": [
    "1. Calculate the number of stops"
   ]
  },
  {
   "cell_type": "code",
   "execution_count": 21,
   "metadata": {},
   "outputs": [
    {
     "name": "stdout",
     "output_type": "stream",
     "text": [
      "There are 9 bus stops.\n"
     ]
    }
   ],
   "source": [
    "num_stops = len(stops)\n",
    "print(\"There are {} bus stops.\".format(num_stops))"
   ]
  },
  {
   "cell_type": "markdown",
   "metadata": {},
   "source": [
    "2. Assign to a variable a list whose elements are the number passengers at each stop (in-out).\n",
    "\n",
    "Each item depends on the previous item in the list + in - out."
   ]
  },
  {
   "cell_type": "code",
   "execution_count": 22,
   "metadata": {},
   "outputs": [
    {
     "name": "stdout",
     "output_type": "stream",
     "text": [
      "The passengers at each stop are: [10, 13, 11, 10, 14, 10, 7, 5, 4].\n"
     ]
    }
   ],
   "source": [
    "pasgrs_stop = []\n",
    "total = 0\n",
    "\n",
    "for stop in stops:\n",
    "    total += stop[0] - stop[1]\n",
    "    pasgrs_stop.append(total)\n",
    "    \n",
    "print(\"The passengers at each stop are: {}.\" .format(pasgrs_stop))"
   ]
  },
  {
   "cell_type": "markdown",
   "metadata": {},
   "source": [
    "3. Find the maximum occupation of the bus."
   ]
  },
  {
   "cell_type": "code",
   "execution_count": 26,
   "metadata": {},
   "outputs": [
    {
     "name": "stdout",
     "output_type": "stream",
     "text": [
      "The maximum occupation is 14 passengers.\n"
     ]
    }
   ],
   "source": [
    "print(\"The maximum occupation is {} passengers.\".format(max(pasgrs_stop)))"
   ]
  },
  {
   "cell_type": "markdown",
   "metadata": {},
   "source": [
    "4. Calculate the average occupation. And the standard deviation."
   ]
  },
  {
   "cell_type": "code",
   "execution_count": 30,
   "metadata": {},
   "outputs": [
    {
     "name": "stdout",
     "output_type": "stream",
     "text": [
      "The average occupation is 9.3333 passengers.\n",
      "The standard deviation of the occupation is 3.3912.\n"
     ]
    }
   ],
   "source": [
    "avg = sum(pasgrs_stop) / n_stops\n",
    "print(\"The average occupation is {} passengers.\".format(round(avg,4)))\n",
    "\n",
    "variance = sum((n - avg)**2 for n in pasgrs_stop) / (n_stops - 1)\n",
    "stdev = variance**0.5\n",
    "print(\"The standard deviation of the occupation is {}.\".format(round(stdev,4)))"
   ]
  },
  {
   "cell_type": "code",
   "execution_count": null,
   "metadata": {},
   "outputs": [],
   "source": []
  }
 ],
 "metadata": {
  "kernelspec": {
   "display_name": "Python 3",
   "language": "python",
   "name": "python3"
  },
  "language_info": {
   "codemirror_mode": {
    "name": "ipython",
    "version": 3
   },
   "file_extension": ".py",
   "mimetype": "text/x-python",
   "name": "python",
   "nbconvert_exporter": "python",
   "pygments_lexer": "ipython3",
   "version": "3.7.6"
  }
 },
 "nbformat": 4,
 "nbformat_minor": 4
}
